{
 "cells": [
  {
   "cell_type": "code",
   "execution_count": 10,
   "id": "6987d03b",
   "metadata": {},
   "outputs": [],
   "source": [
    "import mne\n",
    "import numpy as np\n",
    "import scipy\n",
    "import os\n",
    "import glob #for using wildcards\n",
    "import sys\n",
    "import stat"
   ]
  },
  {
   "cell_type": "code",
   "execution_count": 11,
   "id": "f5e92694",
   "metadata": {},
   "outputs": [],
   "source": [
    "home_dir = \"/Users/ebigayle/Desktop/EEG_PLS_Test\"\n",
    "data_dir = \"data\"\n",
    "data_path = os.path.join(home_dir,data_dir)\n",
    "os.chdir(data_path)"
   ]
  },
  {
   "cell_type": "code",
   "execution_count": 12,
   "id": "78f8915e",
   "metadata": {},
   "outputs": [
    {
     "name": "stdout",
     "output_type": "stream",
     "text": [
      "['sub-13', 'sub-14', 'sub-15', 'sub-12', 'sub-6', 'sub-1', 'sub-8', 'sub-9', 'sub-7', 'sub-17', 'sub-10', 'sub-19', 'sub-18', 'sub-11', 'sub-16', 'sub-2', 'sub-5', 'sub-4', 'sub-3']\n"
     ]
    }
   ],
   "source": [
    "sub_list = glob.glob('sub*')\n",
    "print (sub_list)"
   ]
  },
  {
   "cell_type": "code",
   "execution_count": 13,
   "id": "8119a42b",
   "metadata": {},
   "outputs": [
    {
     "name": "stdout",
     "output_type": "stream",
     "text": [
      "Current working directory: /Users/ebigayle/Desktop/EEG_PLS_Test/data/sub-1/ses-TestVisual/eeg\n"
     ]
    }
   ],
   "source": [
    "os.chdir(\"sub-1/ses-TestVisual/eeg\")\n",
    "print(\"Current working directory: {0}\".format(os.getcwd()))\n",
    "    "
   ]
  },
  {
   "cell_type": "code",
   "execution_count": 14,
   "id": "c430371d",
   "metadata": {},
   "outputs": [
    {
     "name": "stdout",
     "output_type": "stream",
     "text": [
      "sub-1_ses-TestVisual_task-PredError_eeg.vhdr\n"
     ]
    },
    {
     "data": {
      "text/plain": [
       "True"
      ]
     },
     "execution_count": 14,
     "metadata": {},
     "output_type": "execute_result"
    }
   ],
   "source": [
    "eeg_header = glob.glob('*.vhdr')[0]\n",
    "print(eeg_header)\n",
    "os.path.exists(eeg_header)"
   ]
  },
  {
   "cell_type": "code",
   "execution_count": 23,
   "id": "e3468ed5",
   "metadata": {},
   "outputs": [
    {
     "name": "stdout",
     "output_type": "stream",
     "text": [
      "<Info | 7 non-empty values\n",
      " bads: []\n",
      " ch_names: BrainVision RDA_Fp1, BrainVision RDA_Fp2, BrainVision RDA_F7, ...\n",
      " chs: 64 EEG\n",
      " custom_ref_applied: False\n",
      " highpass: 0.0 Hz\n",
      " lowpass: 250.0 Hz\n",
      " meas_date: unspecified\n",
      " nchan: 64\n",
      " projs: []\n",
      " sfreq: 500.0 Hz\n",
      ">\n"
     ]
    }
   ],
   "source": [
    "#raw = mne.io.read_raw_brainvision(eeg_header)\n",
    "#correct_names = [i.replace(\"BrainVision RDA_\", \"\") for i in raw.info[\"ch_names\"]]\n",
    "#raw.rename_channels(raw.info, dict(zip(raw.info['ch_names'], correct_names)))\n",
    "print(raw.info)\n"
   ]
  },
  {
   "cell_type": "code",
   "execution_count": 24,
   "id": "ff544f45",
   "metadata": {},
   "outputs": [
    {
     "ename": "ValueError",
     "evalue": "Invalid channel name(s) {'projs', 'proc_history', 'hpi_meas', 'file_id', 'comps', 'dev_ctf_t', 'utc_offset', 'custom_ref_applied', 'acq_stim', 'device_info', 'events', 'dig', 'bads', 'helium_info', 'meas_date', 'proj_id', 'acq_pars', 'chs', 'description', 'ch_names', 'proj_name', 'sfreq', 'meas_id', 'xplotter_layout', 'experimenter', 'line_freq', 'lowpass', 'highpass', 'hpi_subsystem', 'gantry_angle', 'subject_info', 'dev_head_t', 'kit_system_id', 'ctf_head_t', 'nchan', 'hpi_results'} are not present in info",
     "output_type": "error",
     "traceback": [
      "\u001b[0;31m---------------------------------------------------------------------------\u001b[0m",
      "\u001b[0;31mValueError\u001b[0m                                Traceback (most recent call last)",
      "\u001b[0;32m/var/folders/n3/t8p812fx1jg2zg9drtd48z8h0000gn/T/ipykernel_9608/1597776746.py\u001b[0m in \u001b[0;36m<module>\u001b[0;34m\u001b[0m\n\u001b[0;32m----> 1\u001b[0;31m \u001b[0mraw\u001b[0m\u001b[0;34m.\u001b[0m\u001b[0mrename_channels\u001b[0m\u001b[0;34m(\u001b[0m\u001b[0mraw\u001b[0m\u001b[0;34m.\u001b[0m\u001b[0minfo\u001b[0m\u001b[0;34m,\u001b[0m \u001b[0mdict\u001b[0m\u001b[0;34m(\u001b[0m\u001b[0mzip\u001b[0m\u001b[0;34m(\u001b[0m\u001b[0mraw\u001b[0m\u001b[0;34m.\u001b[0m\u001b[0minfo\u001b[0m\u001b[0;34m[\u001b[0m\u001b[0;34m'ch_names'\u001b[0m\u001b[0;34m]\u001b[0m\u001b[0;34m,\u001b[0m \u001b[0mcorrect_names\u001b[0m\u001b[0;34m)\u001b[0m\u001b[0;34m)\u001b[0m\u001b[0;34m)\u001b[0m\u001b[0;34m\u001b[0m\u001b[0;34m\u001b[0m\u001b[0m\n\u001b[0m\u001b[1;32m      2\u001b[0m \u001b[0mprint\u001b[0m\u001b[0;34m(\u001b[0m\u001b[0mraw\u001b[0m\u001b[0;34m.\u001b[0m\u001b[0minfo\u001b[0m\u001b[0;34m)\u001b[0m\u001b[0;34m\u001b[0m\u001b[0;34m\u001b[0m\u001b[0m\n",
      "\u001b[0;32m<decorator-gen-36>\u001b[0m in \u001b[0;36mrename_channels\u001b[0;34m(self, mapping, allow_duplicates, verbose)\u001b[0m\n",
      "\u001b[0;32m~/opt/anaconda3/envs/MNE_py3.7/lib/python3.7/site-packages/mne/channels/channels.py\u001b[0m in \u001b[0;36mrename_channels\u001b[0;34m(self, mapping, allow_duplicates, verbose)\u001b[0m\n\u001b[1;32m    499\u001b[0m \u001b[0;34m\u001b[0m\u001b[0m\n\u001b[1;32m    500\u001b[0m         \u001b[0mch_names_orig\u001b[0m \u001b[0;34m=\u001b[0m \u001b[0mlist\u001b[0m\u001b[0;34m(\u001b[0m\u001b[0mself\u001b[0m\u001b[0;34m.\u001b[0m\u001b[0minfo\u001b[0m\u001b[0;34m[\u001b[0m\u001b[0;34m'ch_names'\u001b[0m\u001b[0;34m]\u001b[0m\u001b[0;34m)\u001b[0m\u001b[0;34m\u001b[0m\u001b[0;34m\u001b[0m\u001b[0m\n\u001b[0;32m--> 501\u001b[0;31m         \u001b[0mrename_channels\u001b[0m\u001b[0;34m(\u001b[0m\u001b[0mself\u001b[0m\u001b[0;34m.\u001b[0m\u001b[0minfo\u001b[0m\u001b[0;34m,\u001b[0m \u001b[0mmapping\u001b[0m\u001b[0;34m,\u001b[0m \u001b[0mallow_duplicates\u001b[0m\u001b[0;34m)\u001b[0m\u001b[0;34m\u001b[0m\u001b[0;34m\u001b[0m\u001b[0m\n\u001b[0m\u001b[1;32m    502\u001b[0m \u001b[0;34m\u001b[0m\u001b[0m\n\u001b[1;32m    503\u001b[0m         \u001b[0;31m# Update self._orig_units for Raw\u001b[0m\u001b[0;34m\u001b[0m\u001b[0;34m\u001b[0m\u001b[0;34m\u001b[0m\u001b[0m\n",
      "\u001b[0;32m<decorator-gen-43>\u001b[0m in \u001b[0;36mrename_channels\u001b[0;34m(info, mapping, allow_duplicates, verbose)\u001b[0m\n",
      "\u001b[0;32m~/opt/anaconda3/envs/MNE_py3.7/lib/python3.7/site-packages/mne/channels/channels.py\u001b[0m in \u001b[0;36mrename_channels\u001b[0;34m(info, mapping, allow_duplicates, verbose)\u001b[0m\n\u001b[1;32m   1214\u001b[0m     \u001b[0;32mif\u001b[0m \u001b[0misinstance\u001b[0m\u001b[0;34m(\u001b[0m\u001b[0mmapping\u001b[0m\u001b[0;34m,\u001b[0m \u001b[0mdict\u001b[0m\u001b[0;34m)\u001b[0m\u001b[0;34m:\u001b[0m\u001b[0;34m\u001b[0m\u001b[0;34m\u001b[0m\u001b[0m\n\u001b[1;32m   1215\u001b[0m         _check_dict_keys(mapping, ch_names, key_description=\"channel name(s)\",\n\u001b[0;32m-> 1216\u001b[0;31m                          valid_key_source=\"info\")\n\u001b[0m\u001b[1;32m   1217\u001b[0m         new_names = [(ch_names.index(ch_name), new_name)\n\u001b[1;32m   1218\u001b[0m                      for ch_name, new_name in mapping.items()]\n",
      "\u001b[0;32m~/opt/anaconda3/envs/MNE_py3.7/lib/python3.7/site-packages/mne/utils/check.py\u001b[0m in \u001b[0;36m_check_dict_keys\u001b[0;34m(mapping, valid_keys, key_description, valid_key_source)\u001b[0m\n\u001b[1;32m    621\u001b[0m         msg = (f'Invalid {key_description} {missing} {_is} not present in '\n\u001b[1;32m    622\u001b[0m                f'{valid_key_source}')\n\u001b[0;32m--> 623\u001b[0;31m         \u001b[0;32mraise\u001b[0m \u001b[0mValueError\u001b[0m\u001b[0;34m(\u001b[0m\u001b[0mmsg\u001b[0m\u001b[0;34m)\u001b[0m\u001b[0;34m\u001b[0m\u001b[0;34m\u001b[0m\u001b[0m\n\u001b[0m\u001b[1;32m    624\u001b[0m \u001b[0;34m\u001b[0m\u001b[0m\n\u001b[1;32m    625\u001b[0m     \u001b[0;32mreturn\u001b[0m \u001b[0mmapping\u001b[0m\u001b[0;34m\u001b[0m\u001b[0;34m\u001b[0m\u001b[0m\n",
      "\u001b[0;31mValueError\u001b[0m: Invalid channel name(s) {'projs', 'proc_history', 'hpi_meas', 'file_id', 'comps', 'dev_ctf_t', 'utc_offset', 'custom_ref_applied', 'acq_stim', 'device_info', 'events', 'dig', 'bads', 'helium_info', 'meas_date', 'proj_id', 'acq_pars', 'chs', 'description', 'ch_names', 'proj_name', 'sfreq', 'meas_id', 'xplotter_layout', 'experimenter', 'line_freq', 'lowpass', 'highpass', 'hpi_subsystem', 'gantry_angle', 'subject_info', 'dev_head_t', 'kit_system_id', 'ctf_head_t', 'nchan', 'hpi_results'} are not present in info"
     ]
    }
   ],
   "source": [
    "\n",
    "raw.rename_channels(raw.info, dict(zip(raw.info['ch_names'], correct_names)))\n",
    "print(raw.info)"
   ]
  },
  {
   "cell_type": "code",
   "execution_count": 39,
   "id": "b8b3cb67",
   "metadata": {},
   "outputs": [
    {
     "name": "stderr",
     "output_type": "stream",
     "text": [
      "/var/folders/n3/t8p812fx1jg2zg9drtd48z8h0000gn/T/ipykernel_9037/1702439165.py:2: RuntimeWarning: The data has not been high-pass filtered. For good ICA performance, it should be high-pass filtered (e.g., with a 1.0 Hz lower bound) before fitting ICA.\n",
      "  ica.fit(raw)\n"
     ]
    },
    {
     "ename": "RuntimeError",
     "evalue": "info channel name inconsistency detected, please notify mne-python developers",
     "output_type": "error",
     "traceback": [
      "\u001b[0;31m---------------------------------------------------------------------------\u001b[0m",
      "\u001b[0;31mRuntimeError\u001b[0m                              Traceback (most recent call last)",
      "\u001b[0;32m/var/folders/n3/t8p812fx1jg2zg9drtd48z8h0000gn/T/ipykernel_9037/1702439165.py\u001b[0m in \u001b[0;36m<module>\u001b[0;34m\u001b[0m\n\u001b[1;32m      1\u001b[0m \u001b[0mica\u001b[0m \u001b[0;34m=\u001b[0m \u001b[0mmne\u001b[0m\u001b[0;34m.\u001b[0m\u001b[0mpreprocessing\u001b[0m\u001b[0;34m.\u001b[0m\u001b[0mICA\u001b[0m\u001b[0;34m(\u001b[0m\u001b[0mn_components\u001b[0m\u001b[0;34m=\u001b[0m\u001b[0;36m20\u001b[0m\u001b[0;34m,\u001b[0m \u001b[0mrandom_state\u001b[0m\u001b[0;34m=\u001b[0m\u001b[0;36m97\u001b[0m\u001b[0;34m,\u001b[0m \u001b[0mmax_iter\u001b[0m\u001b[0;34m=\u001b[0m\u001b[0;36m800\u001b[0m\u001b[0;34m)\u001b[0m\u001b[0;34m\u001b[0m\u001b[0;34m\u001b[0m\u001b[0m\n\u001b[0;32m----> 2\u001b[0;31m \u001b[0mica\u001b[0m\u001b[0;34m.\u001b[0m\u001b[0mfit\u001b[0m\u001b[0;34m(\u001b[0m\u001b[0mraw\u001b[0m\u001b[0;34m)\u001b[0m\u001b[0;34m\u001b[0m\u001b[0;34m\u001b[0m\u001b[0m\n\u001b[0m\u001b[1;32m      3\u001b[0m \u001b[0mica\u001b[0m\u001b[0;34m.\u001b[0m\u001b[0mexclude\u001b[0m \u001b[0;34m=\u001b[0m \u001b[0;34m[\u001b[0m\u001b[0;36m1\u001b[0m\u001b[0;34m,\u001b[0m \u001b[0;36m2\u001b[0m\u001b[0;34m]\u001b[0m  \u001b[0;31m# details on how we picked these are omitted here\u001b[0m\u001b[0;34m\u001b[0m\u001b[0;34m\u001b[0m\u001b[0m\n\u001b[1;32m      4\u001b[0m \u001b[0mica\u001b[0m\u001b[0;34m.\u001b[0m\u001b[0mplot_properties\u001b[0m\u001b[0;34m(\u001b[0m\u001b[0mraw\u001b[0m\u001b[0;34m,\u001b[0m \u001b[0mpicks\u001b[0m\u001b[0;34m=\u001b[0m\u001b[0mica\u001b[0m\u001b[0;34m.\u001b[0m\u001b[0mexclude\u001b[0m\u001b[0;34m)\u001b[0m\u001b[0;34m\u001b[0m\u001b[0;34m\u001b[0m\u001b[0m\n",
      "\u001b[0;32m<decorator-gen-393>\u001b[0m in \u001b[0;36mfit\u001b[0;34m(self, inst, picks, start, stop, decim, reject, flat, tstep, reject_by_annotation, verbose)\u001b[0m\n",
      "\u001b[0;32m~/Desktop/EEG_PLS_Test/mne-python/mne/preprocessing/ica.py\u001b[0m in \u001b[0;36mfit\u001b[0;34m(self, inst, picks, start, stop, decim, reject, flat, tstep, reject_by_annotation, verbose)\u001b[0m\n\u001b[1;32m    633\u001b[0m \u001b[0;34m\u001b[0m\u001b[0m\n\u001b[1;32m    634\u001b[0m         picks = _picks_to_idx(inst.info, picks, allow_empty=False,\n\u001b[0;32m--> 635\u001b[0;31m                               with_ref_meg=self.allow_ref_meg)\n\u001b[0m\u001b[1;32m    636\u001b[0m         _check_for_unsupported_ica_channels(\n\u001b[1;32m    637\u001b[0m             picks, inst.info, allow_ref_meg=self.allow_ref_meg)\n",
      "\u001b[0;32m~/Desktop/EEG_PLS_Test/mne-python/mne/io/pick.py\u001b[0m in \u001b[0;36m_picks_to_idx\u001b[0;34m(info, picks, none, exclude, allow_empty, with_ref_meg, return_kind)\u001b[0m\n\u001b[1;32m   1047\u001b[0m         picks = _picks_str_to_idx(info, picks, exclude, with_ref_meg,\n\u001b[1;32m   1048\u001b[0m                                   \u001b[0mreturn_kind\u001b[0m\u001b[0;34m,\u001b[0m \u001b[0mextra_repr\u001b[0m\u001b[0;34m,\u001b[0m \u001b[0mallow_empty\u001b[0m\u001b[0;34m,\u001b[0m\u001b[0;34m\u001b[0m\u001b[0;34m\u001b[0m\u001b[0m\n\u001b[0;32m-> 1049\u001b[0;31m                                   orig_picks)\n\u001b[0m\u001b[1;32m   1050\u001b[0m         \u001b[0;32mif\u001b[0m \u001b[0mreturn_kind\u001b[0m\u001b[0;34m:\u001b[0m\u001b[0;34m\u001b[0m\u001b[0;34m\u001b[0m\u001b[0m\n\u001b[1;32m   1051\u001b[0m             \u001b[0mpicked_ch_type_or_generic\u001b[0m \u001b[0;34m=\u001b[0m \u001b[0mpicks\u001b[0m\u001b[0;34m[\u001b[0m\u001b[0;36m1\u001b[0m\u001b[0;34m]\u001b[0m\u001b[0;34m\u001b[0m\u001b[0;34m\u001b[0m\u001b[0m\n",
      "\u001b[0;32m~/Desktop/EEG_PLS_Test/mne-python/mne/io/pick.py\u001b[0m in \u001b[0;36m_picks_str_to_idx\u001b[0;34m(info, picks, exclude, with_ref_meg, return_kind, extra_repr, allow_empty, orig_picks)\u001b[0m\n\u001b[1;32m   1096\u001b[0m             \u001b[0;32melif\u001b[0m \u001b[0mpicks\u001b[0m\u001b[0;34m[\u001b[0m\u001b[0;36m0\u001b[0m\u001b[0;34m]\u001b[0m \u001b[0;34m==\u001b[0m \u001b[0;34m'data'\u001b[0m\u001b[0;34m:\u001b[0m\u001b[0;34m\u001b[0m\u001b[0;34m\u001b[0m\u001b[0m\n\u001b[1;32m   1097\u001b[0m                 picks_generic = _pick_data_channels(info, exclude=exclude,\n\u001b[0;32m-> 1098\u001b[0;31m                                                     with_ref_meg=with_ref_meg)\n\u001b[0m\u001b[1;32m   1099\u001b[0m             \u001b[0;32melif\u001b[0m \u001b[0mpicks\u001b[0m\u001b[0;34m[\u001b[0m\u001b[0;36m0\u001b[0m\u001b[0;34m]\u001b[0m \u001b[0;34m==\u001b[0m \u001b[0;34m'data_or_ica'\u001b[0m\u001b[0;34m:\u001b[0m\u001b[0;34m\u001b[0m\u001b[0;34m\u001b[0m\u001b[0m\n\u001b[1;32m   1100\u001b[0m                 \u001b[0mpicks_generic\u001b[0m \u001b[0;34m=\u001b[0m \u001b[0m_pick_data_or_ica\u001b[0m\u001b[0;34m(\u001b[0m\u001b[0minfo\u001b[0m\u001b[0;34m,\u001b[0m \u001b[0mexclude\u001b[0m\u001b[0;34m=\u001b[0m\u001b[0mexclude\u001b[0m\u001b[0;34m)\u001b[0m\u001b[0;34m\u001b[0m\u001b[0;34m\u001b[0m\u001b[0m\n",
      "\u001b[0;32m~/Desktop/EEG_PLS_Test/mne-python/mne/io/pick.py\u001b[0m in \u001b[0;36m_pick_data_channels\u001b[0;34m(info, exclude, with_ref_meg, with_aux)\u001b[0m\n\u001b[1;32m    992\u001b[0m         \u001b[0mkwargs\u001b[0m \u001b[0;34m=\u001b[0m \u001b[0mkwargs\u001b[0m\u001b[0;34m.\u001b[0m\u001b[0mcopy\u001b[0m\u001b[0;34m(\u001b[0m\u001b[0;34m)\u001b[0m\u001b[0;34m\u001b[0m\u001b[0;34m\u001b[0m\u001b[0m\n\u001b[1;32m    993\u001b[0m         \u001b[0mkwargs\u001b[0m\u001b[0;34m.\u001b[0m\u001b[0mupdate\u001b[0m\u001b[0;34m(\u001b[0m\u001b[0meog\u001b[0m\u001b[0;34m=\u001b[0m\u001b[0;32mTrue\u001b[0m\u001b[0;34m,\u001b[0m \u001b[0mecg\u001b[0m\u001b[0;34m=\u001b[0m\u001b[0;32mTrue\u001b[0m\u001b[0;34m,\u001b[0m \u001b[0memg\u001b[0m\u001b[0;34m=\u001b[0m\u001b[0;32mTrue\u001b[0m\u001b[0;34m,\u001b[0m \u001b[0mbio\u001b[0m\u001b[0;34m=\u001b[0m\u001b[0;32mTrue\u001b[0m\u001b[0;34m)\u001b[0m\u001b[0;34m\u001b[0m\u001b[0;34m\u001b[0m\u001b[0m\n\u001b[0;32m--> 994\u001b[0;31m     \u001b[0;32mreturn\u001b[0m \u001b[0mpick_types\u001b[0m\u001b[0;34m(\u001b[0m\u001b[0minfo\u001b[0m\u001b[0;34m,\u001b[0m \u001b[0mref_meg\u001b[0m\u001b[0;34m=\u001b[0m\u001b[0mwith_ref_meg\u001b[0m\u001b[0;34m,\u001b[0m \u001b[0mexclude\u001b[0m\u001b[0;34m=\u001b[0m\u001b[0mexclude\u001b[0m\u001b[0;34m,\u001b[0m \u001b[0;34m**\u001b[0m\u001b[0mkwargs\u001b[0m\u001b[0;34m)\u001b[0m\u001b[0;34m\u001b[0m\u001b[0;34m\u001b[0m\u001b[0m\n\u001b[0m\u001b[1;32m    995\u001b[0m \u001b[0;34m\u001b[0m\u001b[0m\n\u001b[1;32m    996\u001b[0m \u001b[0;34m\u001b[0m\u001b[0m\n",
      "\u001b[0;32m~/Desktop/EEG_PLS_Test/mne-python/mne/io/pick.py\u001b[0m in \u001b[0;36mpick_types\u001b[0;34m(info, meg, eeg, stim, eog, ecg, emg, ref_meg, misc, resp, chpi, exci, ias, syst, seeg, dipole, gof, bio, ecog, fnirs, csd, dbs, include, exclude, selection)\u001b[0m\n\u001b[1;32m    445\u001b[0m     \u001b[0m_validate_type\u001b[0m\u001b[0;34m(\u001b[0m\u001b[0mmeg\u001b[0m\u001b[0;34m,\u001b[0m \u001b[0;34m(\u001b[0m\u001b[0mbool\u001b[0m\u001b[0;34m,\u001b[0m \u001b[0mstr\u001b[0m\u001b[0;34m)\u001b[0m\u001b[0;34m,\u001b[0m \u001b[0;34m'meg'\u001b[0m\u001b[0;34m)\u001b[0m\u001b[0;34m\u001b[0m\u001b[0;34m\u001b[0m\u001b[0m\n\u001b[1;32m    446\u001b[0m \u001b[0;34m\u001b[0m\u001b[0m\n\u001b[0;32m--> 447\u001b[0;31m     \u001b[0mexclude\u001b[0m \u001b[0;34m=\u001b[0m \u001b[0m_check_info_exclude\u001b[0m\u001b[0;34m(\u001b[0m\u001b[0minfo\u001b[0m\u001b[0;34m,\u001b[0m \u001b[0mexclude\u001b[0m\u001b[0;34m)\u001b[0m\u001b[0;34m\u001b[0m\u001b[0;34m\u001b[0m\u001b[0m\n\u001b[0m\u001b[1;32m    448\u001b[0m     \u001b[0mnchan\u001b[0m \u001b[0;34m=\u001b[0m \u001b[0minfo\u001b[0m\u001b[0;34m[\u001b[0m\u001b[0;34m'nchan'\u001b[0m\u001b[0;34m]\u001b[0m\u001b[0;34m\u001b[0m\u001b[0;34m\u001b[0m\u001b[0m\n\u001b[1;32m    449\u001b[0m     \u001b[0mpick\u001b[0m \u001b[0;34m=\u001b[0m \u001b[0mnp\u001b[0m\u001b[0;34m.\u001b[0m\u001b[0mzeros\u001b[0m\u001b[0;34m(\u001b[0m\u001b[0mnchan\u001b[0m\u001b[0;34m,\u001b[0m \u001b[0mdtype\u001b[0m\u001b[0;34m=\u001b[0m\u001b[0mbool\u001b[0m\u001b[0;34m)\u001b[0m\u001b[0;34m\u001b[0m\u001b[0;34m\u001b[0m\u001b[0m\n",
      "\u001b[0;32m~/Desktop/EEG_PLS_Test/mne-python/mne/io/pick.py\u001b[0m in \u001b[0;36m_check_info_exclude\u001b[0;34m(info, exclude)\u001b[0m\n\u001b[1;32m    355\u001b[0m \u001b[0;32mdef\u001b[0m \u001b[0m_check_info_exclude\u001b[0m\u001b[0;34m(\u001b[0m\u001b[0minfo\u001b[0m\u001b[0;34m,\u001b[0m \u001b[0mexclude\u001b[0m\u001b[0;34m)\u001b[0m\u001b[0;34m:\u001b[0m\u001b[0;34m\u001b[0m\u001b[0;34m\u001b[0m\u001b[0m\n\u001b[1;32m    356\u001b[0m     \u001b[0m_validate_type\u001b[0m\u001b[0;34m(\u001b[0m\u001b[0minfo\u001b[0m\u001b[0;34m,\u001b[0m \u001b[0;34m\"info\"\u001b[0m\u001b[0;34m)\u001b[0m\u001b[0;34m\u001b[0m\u001b[0;34m\u001b[0m\u001b[0m\n\u001b[0;32m--> 357\u001b[0;31m     \u001b[0minfo\u001b[0m\u001b[0;34m.\u001b[0m\u001b[0m_check_consistency\u001b[0m\u001b[0;34m(\u001b[0m\u001b[0;34m)\u001b[0m\u001b[0;34m\u001b[0m\u001b[0;34m\u001b[0m\u001b[0m\n\u001b[0m\u001b[1;32m    358\u001b[0m     \u001b[0;32mif\u001b[0m \u001b[0mexclude\u001b[0m \u001b[0;32mis\u001b[0m \u001b[0;32mNone\u001b[0m\u001b[0;34m:\u001b[0m\u001b[0;34m\u001b[0m\u001b[0;34m\u001b[0m\u001b[0m\n\u001b[1;32m    359\u001b[0m         \u001b[0;32mraise\u001b[0m \u001b[0mValueError\u001b[0m\u001b[0;34m(\u001b[0m\u001b[0;34m'exclude must be a list of strings or \"bads\"'\u001b[0m\u001b[0;34m)\u001b[0m\u001b[0;34m\u001b[0m\u001b[0;34m\u001b[0m\u001b[0m\n",
      "\u001b[0;32m~/Desktop/EEG_PLS_Test/mne-python/mne/io/meas_info.py\u001b[0m in \u001b[0;36m_check_consistency\u001b[0;34m(self, prepend_error)\u001b[0m\n\u001b[1;32m    917\u001b[0m             raise RuntimeError('%sinfo channel name inconsistency detected, '\n\u001b[1;32m    918\u001b[0m                                \u001b[0;34m'please notify mne-python developers'\u001b[0m\u001b[0;34m\u001b[0m\u001b[0;34m\u001b[0m\u001b[0m\n\u001b[0;32m--> 919\u001b[0;31m                                % (prepend_error,))\n\u001b[0m\u001b[1;32m    920\u001b[0m \u001b[0;34m\u001b[0m\u001b[0m\n\u001b[1;32m    921\u001b[0m         \u001b[0;31m# make sure we have the proper datatypes\u001b[0m\u001b[0;34m\u001b[0m\u001b[0;34m\u001b[0m\u001b[0;34m\u001b[0m\u001b[0m\n",
      "\u001b[0;31mRuntimeError\u001b[0m: info channel name inconsistency detected, please notify mne-python developers"
     ]
    }
   ],
   "source": [
    "ica = mne.preprocessing.ICA(n_components=20, random_state=97, max_iter=800)\n",
    "ica.fit(raw)\n",
    "ica.exclude = [1, 2]  # details on how we picked these are omitted here\n",
    "ica.plot_properties(raw, picks=ica.exclude)"
   ]
  },
  {
   "cell_type": "code",
   "execution_count": null,
   "id": "0393d3a0",
   "metadata": {},
   "outputs": [],
   "source": [
    "raw.plot_psd(fmax=50)\n",
    "raw.plot(duration=5, n_channels=30)"
   ]
  },
  {
   "cell_type": "code",
   "execution_count": 23,
   "id": "2cbf678f",
   "metadata": {},
   "outputs": [],
   "source": [
    "empty = {}\n",
    "for i in raw.info['ch_names']:\n",
    "    new_name = {str(i) : i.replace(\"BrainVision RDA_\", \"\")}\n",
    "    empty.update(new_name)"
   ]
  },
  {
   "cell_type": "code",
   "execution_count": 26,
   "id": "3eb91e65",
   "metadata": {},
   "outputs": [
    {
     "data": {
      "text/plain": [
       "['Fp1',\n",
       " 'Fp2',\n",
       " 'F7',\n",
       " 'F3',\n",
       " 'Fz',\n",
       " 'F4',\n",
       " 'F8',\n",
       " 'FC5',\n",
       " 'FC1',\n",
       " 'FC2',\n",
       " 'FC6',\n",
       " 'T7',\n",
       " 'C3',\n",
       " 'Cz',\n",
       " 'C4',\n",
       " 'T8',\n",
       " 'TP9',\n",
       " 'CP5',\n",
       " 'CP1',\n",
       " 'CP2',\n",
       " 'CP6',\n",
       " 'TP10',\n",
       " 'P7',\n",
       " 'P3',\n",
       " 'Pz',\n",
       " 'P4',\n",
       " 'P8',\n",
       " 'PO9',\n",
       " 'O1',\n",
       " 'Oz',\n",
       " 'O2',\n",
       " 'PO10',\n",
       " 'AF7',\n",
       " 'AF3',\n",
       " 'AF4',\n",
       " 'AF8',\n",
       " 'F5',\n",
       " 'F1',\n",
       " 'F2',\n",
       " 'F6',\n",
       " 'FT9',\n",
       " 'FT7',\n",
       " 'FC3',\n",
       " 'FC4',\n",
       " 'FT8',\n",
       " 'FT10',\n",
       " 'C5',\n",
       " 'C1',\n",
       " 'C2',\n",
       " 'C6',\n",
       " 'TP7',\n",
       " 'CP3',\n",
       " 'CPz',\n",
       " 'CP4',\n",
       " 'TP8',\n",
       " 'P5',\n",
       " 'P1',\n",
       " 'P2',\n",
       " 'P6',\n",
       " 'PO7',\n",
       " 'PO3',\n",
       " 'POz',\n",
       " 'PO4',\n",
       " 'PO8']"
      ]
     },
     "execution_count": 26,
     "metadata": {},
     "output_type": "execute_result"
    }
   ],
   "source": [
    "raw.info['ch_names']"
   ]
  },
  {
   "cell_type": "code",
   "execution_count": null,
   "id": "e07b0490",
   "metadata": {},
   "outputs": [],
   "source": []
  }
 ],
 "metadata": {
  "kernelspec": {
   "display_name": "Python 3 (ipykernel)",
   "language": "python",
   "name": "python3"
  },
  "language_info": {
   "codemirror_mode": {
    "name": "ipython",
    "version": 3
   },
   "file_extension": ".py",
   "mimetype": "text/x-python",
   "name": "python",
   "nbconvert_exporter": "python",
   "pygments_lexer": "ipython3",
   "version": "3.7.11"
  }
 },
 "nbformat": 4,
 "nbformat_minor": 5
}
